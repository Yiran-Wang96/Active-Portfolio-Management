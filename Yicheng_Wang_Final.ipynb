{
 "cells": [
  {
   "cell_type": "markdown",
   "metadata": {},
   "source": [
    "# Data"
   ]
  },
  {
   "cell_type": "code",
   "execution_count": 1,
   "metadata": {},
   "outputs": [],
   "source": [
    "import pandas as pd\n",
    "import numpy as np\n",
    "import glob\n",
    "from datetime import datetime\n",
    "import matplotlib.pyplot as plt\n",
    "\n",
    "from scipy.stats import ttest_ind\n",
    "from sklearn.linear_model import LinearRegression  # for OLS, WLS\n",
    "from statsmodels.regression.mixed_linear_model import MixedLM  # for MLE\n",
    "from cvxopt import matrix, solvers  # for long only portfolio\n",
    "solvers.options['show_progress'] = False\n",
    "\n",
    "import warnings\n",
    "warnings.filterwarnings('ignore')"
   ]
  },
  {
   "cell_type": "code",
   "execution_count": 2,
   "metadata": {},
   "outputs": [
    {
     "name": "stdout",
     "output_type": "stream",
     "text": [
      "Reading file ...Done\n"
     ]
    }
   ],
   "source": [
    "path = r'Data/Data/Data' # use your path\n",
    "allFiles = glob.glob(path + \"/*.txt\")\n",
    "\n",
    "list_df = []\n",
    "\n",
    "for file_ in allFiles:\n",
    "    df = pd.read_csv(file_, index_col=None, header=0, sep=\"|\")\n",
    "    list_df.append(df)\n",
    "\n",
    "print('Reading file ...Done')"
   ]
  },
  {
   "cell_type": "code",
   "execution_count": 3,
   "metadata": {},
   "outputs": [
    {
     "name": "stdout",
     "output_type": "stream",
     "text": [
      "Combining file ...Done\n"
     ]
    }
   ],
   "source": [
    "data = pd.concat(list_df, axis = 0, ignore_index = True)\n",
    "data['XDATE'] = pd.to_datetime(data['XDATE'])\n",
    "data['T'] = pd.to_datetime(data['T'])\n",
    "data['RDATE'] = pd.to_datetime(data['RDATE'])\n",
    "print('Combining file ...Done')"
   ]
  },
  {
   "cell_type": "markdown",
   "metadata": {},
   "source": [
    "## Data prep\n",
    "(1) ID: a unique stock identifier that doesn't change through time  \n",
    "(2) NAME: the name of the corporation, for example EXXON MOBIL CORP  \n",
    "(3) BETA, MOMENTUM, SIZE, VOL: style factor loadings, which becomes columns of X  \n",
    "(4) GICCODE (Categorical): an industry classification, which you can treat as a categorical factor, whose unique levels become columns of X  \n",
    "(5) XDATE: the date on which the factor loadings are sampled, usually one trading day before T  \n",
    "(6) T: the date t in Rt;t+1  \n",
    "(7) RDATE: the date t + 1 in Rt;t+1  \n",
    "(8) R: the numerical value of Rt;t+1  \n",
    "(9) RESVOL (used in WLS): the value of sigma_i for this stock, estimated using data knowable before t  \n",
    "(10) ADVP: average daily volume times price, in dollars  \n",
    "(11) tir, td (has NaN): alpha factors, sampled before t, which may or may not help predict R  "
   ]
  },
  {
   "cell_type": "code",
   "execution_count": 4,
   "metadata": {},
   "outputs": [],
   "source": [
    "num_col = ['BETA', 'SIZE', 'MOMENTUM', 'VOL', 'ADVP', 'USDCAP', 'RESVOL', 'tir', 'td']\n",
    "cat_col = ['GICCODE']\n",
    "na_col = ['tir', 'td']\n",
    "y_col = ['R']"
   ]
  },
  {
   "cell_type": "markdown",
   "metadata": {},
   "source": [
    "### Delete outlier\n",
    "return on 2013-12-31 has error, delete this date"
   ]
  },
  {
   "cell_type": "code",
   "execution_count": 5,
   "metadata": {},
   "outputs": [],
   "source": [
    "data_desc = data.groupby(['T'])[y_col[0]].describe()"
   ]
  },
  {
   "cell_type": "code",
   "execution_count": 6,
   "metadata": {},
   "outputs": [
    {
     "data": {
      "text/html": [
       "<div>\n",
       "<style scoped>\n",
       "    .dataframe tbody tr th:only-of-type {\n",
       "        vertical-align: middle;\n",
       "    }\n",
       "\n",
       "    .dataframe tbody tr th {\n",
       "        vertical-align: top;\n",
       "    }\n",
       "\n",
       "    .dataframe thead th {\n",
       "        text-align: right;\n",
       "    }\n",
       "</style>\n",
       "<table border=\"1\" class=\"dataframe\">\n",
       "  <thead>\n",
       "    <tr style=\"text-align: right;\">\n",
       "      <th></th>\n",
       "      <th>count</th>\n",
       "      <th>mean</th>\n",
       "      <th>std</th>\n",
       "      <th>min</th>\n",
       "      <th>25%</th>\n",
       "      <th>50%</th>\n",
       "      <th>75%</th>\n",
       "      <th>max</th>\n",
       "    </tr>\n",
       "    <tr>\n",
       "      <th>T</th>\n",
       "      <th></th>\n",
       "      <th></th>\n",
       "      <th></th>\n",
       "      <th></th>\n",
       "      <th></th>\n",
       "      <th></th>\n",
       "      <th></th>\n",
       "      <th></th>\n",
       "    </tr>\n",
       "  </thead>\n",
       "  <tbody>\n",
       "    <tr>\n",
       "      <th>2013-12-31</th>\n",
       "      <td>2718.0</td>\n",
       "      <td>3.893213</td>\n",
       "      <td>190.133541</td>\n",
       "      <td>-0.859219</td>\n",
       "      <td>-0.018969</td>\n",
       "      <td>-0.010547</td>\n",
       "      <td>-0.001719</td>\n",
       "      <td>9910.688817</td>\n",
       "    </tr>\n",
       "  </tbody>\n",
       "</table>\n",
       "</div>"
      ],
      "text/plain": [
       "             count      mean         std       min       25%       50%  \\\n",
       "T                                                                        \n",
       "2013-12-31  2718.0  3.893213  190.133541 -0.859219 -0.018969 -0.010547   \n",
       "\n",
       "                 75%          max  \n",
       "T                                  \n",
       "2013-12-31 -0.001719  9910.688817  "
      ]
     },
     "execution_count": 6,
     "metadata": {},
     "output_type": "execute_result"
    }
   ],
   "source": [
    "data_desc[data_desc['max'] > 5]"
   ]
  },
  {
   "cell_type": "code",
   "execution_count": 7,
   "metadata": {},
   "outputs": [
    {
     "data": {
      "text/plain": [
       "numpy.datetime64('2013-12-31T00:00:00.000000000')"
      ]
     },
     "execution_count": 7,
     "metadata": {},
     "output_type": "execute_result"
    }
   ],
   "source": [
    "error_date = data_desc[data_desc['max'] > 5].index.values[0]\n",
    "error_date"
   ]
  },
  {
   "cell_type": "code",
   "execution_count": 8,
   "metadata": {},
   "outputs": [
    {
     "name": "stdout",
     "output_type": "stream",
     "text": [
      "Remove data of date: 2013-12-31T00:00:00.000000000 ...Done\n"
     ]
    }
   ],
   "source": [
    "data = data[data['T'] != error_date]\n",
    "print('Remove data of date: {} ...Done'.format(error_date))"
   ]
  },
  {
   "cell_type": "markdown",
   "metadata": {},
   "source": [
    "### Encode categorical values\n",
    "one hot encoder: encode categorical variables to dummy"
   ]
  },
  {
   "cell_type": "code",
   "execution_count": 9,
   "metadata": {
    "scrolled": true
   },
   "outputs": [
    {
     "name": "stdout",
     "output_type": "stream",
     "text": [
      "Encoding column GICCODE ...Done\n"
     ]
    }
   ],
   "source": [
    "data = pd.concat([data, pd.get_dummies(data[cat_col[0]], prefix=cat_col[0])], axis=1)\n",
    "data.drop(cat_col, axis=1, inplace=True)\n",
    "print('Encoding column {} ...Done'.format(cat_col[0]))"
   ]
  },
  {
   "cell_type": "code",
   "execution_count": 10,
   "metadata": {},
   "outputs": [],
   "source": [
    "cat_col = list(data.columns.values[15:])  # all GICCODE\n",
    "factor_col = ['BETA', 'SIZE', 'MOMENTUM', 'VOL', 'tir', 'td']\n",
    "X_col = factor_col + cat_col\n",
    "y_col = ['R']  # y column names"
   ]
  },
  {
   "cell_type": "markdown",
   "metadata": {},
   "source": [
    "### Deal with NA values\n",
    "only tir and td have NA values  \n",
    "tir: all NAs for some of assets, replace with 0  \n",
    "td: some NAs for some of assets, replace with previous value  "
   ]
  },
  {
   "cell_type": "code",
   "execution_count": 11,
   "metadata": {},
   "outputs": [],
   "source": [
    "data[na_col] = data.groupby(['ID'], as_index=False)[na_col].fillna(method='ffill').fillna(0)"
   ]
  },
  {
   "cell_type": "markdown",
   "metadata": {},
   "source": [
    "# Problem 1"
   ]
  },
  {
   "cell_type": "code",
   "execution_count": 12,
   "metadata": {},
   "outputs": [],
   "source": [
    "# data multi-indexed by date and id\n",
    "data_dt_id = data.set_index(['T','ID']).sort_index(level=[0,1])"
   ]
  },
  {
   "cell_type": "code",
   "execution_count": 16,
   "metadata": {},
   "outputs": [
    {
     "data": {
      "text/plain": [
       "7116602"
      ]
     },
     "execution_count": 16,
     "metadata": {},
     "output_type": "execute_result"
    }
   ],
   "source": [
    "len(data_dt_id.index)"
   ]
  },
  {
   "cell_type": "code",
   "execution_count": 13,
   "metadata": {},
   "outputs": [
    {
     "data": {
      "text/plain": [
       "DatetimeIndex(['2007-01-03', '2007-01-04', '2007-01-05', '2007-01-08',\n",
       "               '2007-01-09', '2007-01-10', '2007-01-11', '2007-01-12',\n",
       "               '2007-01-16', '2007-01-17',\n",
       "               ...\n",
       "               '2017-12-14', '2017-12-15', '2017-12-18', '2017-12-19',\n",
       "               '2017-12-20', '2017-12-21', '2017-12-22', '2017-12-26',\n",
       "               '2017-12-27', '2017-12-28'],\n",
       "              dtype='datetime64[ns]', name='T', length=2767, freq=None)"
      ]
     },
     "execution_count": 13,
     "metadata": {},
     "output_type": "execute_result"
    }
   ],
   "source": [
    "data_dt_id.index.levels[0]"
   ]
  },
  {
   "cell_type": "code",
   "execution_count": 14,
   "metadata": {},
   "outputs": [
    {
     "data": {
      "text/plain": [
       "Index(['10000_01', '10002_02', '10008_01', '10016_01', '10035_01', '10044_01',\n",
       "       '1004_01', '10056_01', '10063_01', '10086_01',\n",
       "       ...\n",
       "       '9890_01', '9898_01', '9899_01', '9904_01', '9919_01', '9921_01',\n",
       "       '9922_01', '9937_01', '9969_02', '9999_01'],\n",
       "      dtype='object', name='ID', length=5155)"
      ]
     },
     "execution_count": 14,
     "metadata": {},
     "output_type": "execute_result"
    }
   ],
   "source": [
    "data_dt_id.index.levels[1]"
   ]
  },
  {
   "cell_type": "code",
   "execution_count": 15,
   "metadata": {},
   "outputs": [
    {
     "data": {
      "text/plain": [
       "Index(['NAME', 'BETA', 'SIZE', 'MOMENTUM', 'VOL', 'XDATE', 'RDATE', 'R',\n",
       "       'ADVP', 'USDCAP',\n",
       "       ...\n",
       "       'GICCODE_60101030', 'GICCODE_60101040', 'GICCODE_60101050',\n",
       "       'GICCODE_60101060', 'GICCODE_60101070', 'GICCODE_60101080',\n",
       "       'GICCODE_60102010', 'GICCODE_60102020', 'GICCODE_60102030',\n",
       "       'GICCODE_60102040'],\n",
       "      dtype='object', length=189)"
      ]
     },
     "execution_count": 15,
     "metadata": {},
     "output_type": "execute_result"
    }
   ],
   "source": [
    "data_dt_id.columns"
   ]
  },
  {
   "cell_type": "markdown",
   "metadata": {},
   "source": [
    "## OLS / WLS"
   ]
  },
  {
   "cell_type": "code",
   "execution_count": 122,
   "metadata": {
    "scrolled": true
   },
   "outputs": [],
   "source": [
    "# dataframe to store factor returns: index is date, column are factor names\n",
    "factor_ret_ols = pd.DataFrame(columns = X_col)\n",
    "factor_ret_wls = pd.DataFrame(columns = X_col)"
   ]
  },
  {
   "cell_type": "code",
   "execution_count": null,
   "metadata": {},
   "outputs": [],
   "source": [
    "def compute_factor_ret():\n",
    "    global factor_ret_ols, factor_ret_wls\n",
    "    \n",
    "    start = datetime.now()\n",
    "    lm = LinearRegression(fit_intercept = False)\n",
    "\n",
    "    for dt in data_dt_id.index.levels[0]:\n",
    "        print('Calculating factor return for day {} ...Done'.format(dt))\n",
    "\n",
    "        # dataframe indexed by ID for each trading day\n",
    "        df = data_dt_id.loc[dt, :]\n",
    "        df = df[df[y_col[0]]!=0]  # delete stocks that have 0 returns(y)\n",
    "        y = df[y_col]  # returns\n",
    "\n",
    "        # keep column name that have any non-zero values\n",
    "        nna_col = df.columns[(df != 0).any()]\n",
    "        df_X = df[nna_col]  # remove columns that are all 0\n",
    "\n",
    "        df_X = pd.concat([df_X[factor_col], df_X.loc[:, cat_col[0]:]], axis=1)  # combine 6 factor column + categorical columns\n",
    "        X = df_X.values\n",
    "\n",
    "        # OLS: store factor return\n",
    "        f = np.linalg.inv(X.T@X)@X.T@y  # factor value at t+1, place at t, shift it later\n",
    "        factor_ret_ols.loc[dt, df_X.columns] = f.T[0]\n",
    "\n",
    "        # WLS\n",
    "        df.loc[df['RESVOL'] < 0.005, 'RESVOL'] = 0.005  # replace small resvol values\n",
    "        prob = df.RESVOL ** 2\n",
    "        factor_ret_wls.loc[dt, df_X.columns] = lm.fit(X, y, sample_weight = 1/prob).coef_\n",
    "    \n",
    "    print(\">>> Running Time : \", datetime.now() - start)"
   ]
  },
  {
   "cell_type": "code",
   "execution_count": null,
   "metadata": {},
   "outputs": [],
   "source": [
    "compute_factor_ret()"
   ]
  },
  {
   "cell_type": "code",
   "execution_count": 126,
   "metadata": {},
   "outputs": [
    {
     "name": "stdout",
     "output_type": "stream",
     "text": [
      "Saved to file ...Done\n"
     ]
    }
   ],
   "source": [
    "factor_ret_ols.to_csv('factor_ret_ols.csv')\n",
    "factor_ret_wls.to_csv('factor_ret_wls.csv')\n",
    "print('Saved to file ...Done')"
   ]
  },
  {
   "cell_type": "markdown",
   "metadata": {},
   "source": [
    "## Compare cumsum factor return"
   ]
  },
  {
   "cell_type": "code",
   "execution_count": 9,
   "metadata": {},
   "outputs": [],
   "source": [
    "factor_ret_ols = pd.read_csv('factor_ret_ols.csv', index_col=0, parse_dates=True)\n",
    "factor_ret_wls = pd.read_csv('factor_ret_wls.csv', index_col=0, parse_dates=True)"
   ]
  },
  {
   "cell_type": "code",
   "execution_count": 10,
   "metadata": {},
   "outputs": [],
   "source": [
    "factor_ret_ols_cumsum = factor_ret_ols.cumsum()\n",
    "factor_ret_wls_cumsum = factor_ret_wls.cumsum()"
   ]
  },
  {
   "cell_type": "code",
   "execution_count": 11,
   "metadata": {},
   "outputs": [],
   "source": [
    "alpha_col = ['tir', 'td']"
   ]
  },
  {
   "cell_type": "code",
   "execution_count": 19,
   "metadata": {},
   "outputs": [
    {
     "data": {
      "image/png": "[encoded data removed]",
      "text/plain": [
       "<Figure size 720x720 with 2 Axes>"
      ]
     },
     "metadata": {},
     "output_type": "display_data"
    }
   ],
   "source": [
    "fig, ax = plt.subplots(2,1, figsize=(10,10))\n",
    "for i in range(2):\n",
    "    col = alpha_col[i]\n",
    "    ax[i].plot(factor_ret_ols_cumsum[col], label='OLS')\n",
    "    ax[i].plot(factor_ret_wls_cumsum[col], label='WLS')\n",
    "    ax[i].set_title(col)\n",
    "    ax[i].legend()"
   ]
  },
  {
   "cell_type": "code",
   "execution_count": 16,
   "metadata": {},
   "outputs": [
    {
     "name": "stdout",
     "output_type": "stream",
     "text": [
      "T test is used, p-value for factor tir is 5.350257891081695e-09, p-value for factor td is 1.0197837787552627e-11\n",
      "Since their p-value are small, the results are significally different statistically \n"
     ]
    }
   ],
   "source": [
    "pvalue_tir = ttest_ind(factor_ret_ols_cumsum['tir'], factor_ret_wls_cumsum['tir'])[1]\n",
    "pvalue_td = ttest_ind(factor_ret_ols_cumsum['td'], factor_ret_wls_cumsum['td'])[1]\n",
    "print('T test is used, p-value for factor tir is {}, p-value for factor td is {}'.format(pvalue_tir, pvalue_td))\n",
    "print('Since their p-value are small, the results are significally different statistically ')"
   ]
  },
  {
   "cell_type": "markdown",
   "metadata": {},
   "source": [
    "## Mean factor return"
   ]
  },
  {
   "cell_type": "code",
   "execution_count": 32,
   "metadata": {},
   "outputs": [],
   "source": [
    "factor_ret_wls_mean = factor_ret_wls.mean()\n",
    "factor_ret_ols_mean = factor_ret_ols.mean()"
   ]
  },
  {
   "cell_type": "code",
   "execution_count": 14,
   "metadata": {},
   "outputs": [
    {
     "data": {
      "text/plain": [
       "BETA    0.000082\n",
       "SIZE   -0.000056\n",
       "dtype: float64"
      ]
     },
     "execution_count": 14,
     "metadata": {},
     "output_type": "execute_result"
    }
   ],
   "source": [
    "factor_ret_ols_mean[:2]"
   ]
  },
  {
   "cell_type": "code",
   "execution_count": 15,
   "metadata": {},
   "outputs": [
    {
     "data": {
      "text/plain": [
       "BETA    0.000055\n",
       "SIZE   -0.000062\n",
       "dtype: float64"
      ]
     },
     "execution_count": 15,
     "metadata": {},
     "output_type": "execute_result"
    }
   ],
   "source": [
    "factor_ret_wls_mean[:2]"
   ]
  },
  {
   "cell_type": "markdown",
   "metadata": {
    "scrolled": true
   },
   "source": [
    "# Problem 2"
   ]
  },
  {
   "cell_type": "markdown",
   "metadata": {},
   "source": [
    "## Optimal holding\n",
    "can use either gradient_descent/optimal_holding functions below to calculate optimal holding without forming sigma.  \n",
    "To speed up process, I simply used optimal_holding function, which is given in Ritter's lecture note Theorem 5.2 (5.11)."
   ]
  },
  {
   "cell_type": "code",
   "execution_count": 936,
   "metadata": {},
   "outputs": [],
   "source": [
    "# get exposure(x) and optimal holding(h) without forming sigma\n",
    "def optimal_holding(kappa, F, X, D_inv, D_inv_half, factor_mean):\n",
    "    exp_x = (1./kappa) * np.linalg.inv(F + np.linalg.pinv(X.T @ D_inv @ X)) @ factor_mean\n",
    "    h = D_inv_half @ np.linalg.pinv(X.T @ D_inv_half) @ exp_x\n",
    "    return h"
   ]
  },
  {
   "cell_type": "code",
   "execution_count": null,
   "metadata": {},
   "outputs": [],
   "source": [
    "def gradient_descent(kappa, F, X, D_inv, D_inv_half, factor_mean):\n",
    "    precision = np.array([0.001]*X.shape[1])\n",
    "    step = 0.01\n",
    "    x = np.zeros(X.shape[1])\n",
    "    iters = 0\n",
    "    max_iters = 10000\n",
    "    \n",
    "    while change > precision and iters < max_iters:\n",
    "        x = new_x\n",
    "        delta = factor_mean - kappa * (F + np.linalg.pinv(X.T @ D_inv @ X)) @ x\n",
    "        new_x = x - delta * step\n",
    "        h = D_inv_half @ np.linalg.pinv(X.T @ D_inv_half) @ x\n",
    "        change = abs(new_x - x)\n",
    "        \n",
    "    return h"
   ]
  },
  {
   "cell_type": "code",
   "execution_count": 117,
   "metadata": {
    "scrolled": true
   },
   "outputs": [],
   "source": [
    "'''\n",
    "Calculate optimal holding for each stock in each day given factor returns, kappa.\n",
    "If no long only constraint, use previous optimization function to solve.\n",
    "If add long only constraint, use cvxopt.solvers.qp to solve.\n",
    "'''\n",
    "\n",
    "def compute_optimal_holding(factor_ret, kappa=1, long_only=False):\n",
    "    # save holdings: row is stocks, column is dates\n",
    "    holding_df = pd.DataFrame(columns = data_dt_id.index.levels[1])\n",
    "\n",
    "    start = datetime.now()\n",
    "    print('Calculating optimal holding for Markowitz portfolio ...')\n",
    "\n",
    "    for dt in factor_ret.index:    \n",
    "        print(dt)\n",
    "        # get X\n",
    "        df = data_dt_id.loc[dt, :]\n",
    "        df = df[df[y_col[0]]!=0]\n",
    "        y = df[y_col]\n",
    "        nna_col = df.columns[(df != 0).any()]\n",
    "        df_X = df[nna_col]\n",
    "        df_X = pd.concat([df_X[factor_col], df_X.loc[:, cat_col[0]:]], axis=1)\n",
    "        X = df_X.values\n",
    "\n",
    "        # expanding covariance\n",
    "        F = factor_ret.loc[:dt, df_X.columns.values].cov().fillna(0).values\n",
    "\n",
    "        # get D\n",
    "        df.loc[df['RESVOL'] < 0.005, 'RESVOL'] = 0.005\n",
    "        D = np.diagflat(df['RESVOL'].values ** 2)\n",
    "        D_inv = np.diagflat(1. / df['RESVOL'].values ** 2)\n",
    "        D_inv_half = np.diagflat(1. / df['RESVOL'].values)\n",
    "        \n",
    "        # get alpha: n*1\n",
    "        alpha = df['td'].values + df['tir'].values\n",
    "        \n",
    "        if not long_only:\n",
    "            factor_mean = np.linalg.pinv(X) @ alpha\n",
    "            holding = optimal_holding(kappa, F, X, D_inv, D_inv_half, factor_mean)\n",
    "        else:\n",
    "            sigma = X @ F @ X.T + D\n",
    "            G = - np.identity(len(alpha))\n",
    "            h = np.zeros((len(alpha), 1))\n",
    "            sol = solvers.qp(matrix(sigma), matrix(alpha), matrix(G), matrix(h))\n",
    "            holding = np.array(sol['x'])\n",
    "        \n",
    "        # store into df\n",
    "        holding_df.loc[dt, df_X.index.values] = holding.reshape(1,-1)\n",
    "\n",
    "    print(\">>> Running Time : \", datetime.now() - start)\n",
    "    \n",
    "    return holding_df"
   ]
  },
  {
   "cell_type": "code",
   "execution_count": 148,
   "metadata": {},
   "outputs": [
    {
     "name": "stdout",
     "output_type": "stream",
     "text": [
      "Saved to file ...Done\n"
     ]
    }
   ],
   "source": [
    "holding_df = compute_optimal_holding(factor_ret_ols)  # holding using k=1\n",
    "holding_df.to_csv('holding_df.csv')\n",
    "print('Saved to file ...Done')"
   ]
  },
  {
   "cell_type": "markdown",
   "metadata": {},
   "source": [
    "## kappa\n",
    "find constant kappa that the average gross market value of holdings is 500 million USD"
   ]
  },
  {
   "cell_type": "code",
   "execution_count": 20,
   "metadata": {},
   "outputs": [],
   "source": [
    "holding_df = pd.read_csv('holding_df.csv', index_col=0, parse_dates=True)"
   ]
  },
  {
   "cell_type": "code",
   "execution_count": 21,
   "metadata": {},
   "outputs": [],
   "source": [
    "'calculate kappa given holdings in each day'\n",
    "def compute_kappa(holding_df, capital = 500000000.):\n",
    "    kappa = holding_df.abs().sum(axis=1).mean() / capital\n",
    "    print('kappa when average GMV is 500 million USD: {}'.format(kappa))\n",
    "    return kappa"
   ]
  },
  {
   "cell_type": "code",
   "execution_count": 22,
   "metadata": {},
   "outputs": [
    {
     "name": "stdout",
     "output_type": "stream",
     "text": [
      "kappa when average GMV is 500 million USD: 0.0012758191793538305\n"
     ]
    }
   ],
   "source": [
    "kappa = compute_kappa(holding_df)"
   ]
  },
  {
   "cell_type": "markdown",
   "metadata": {},
   "source": [
    "## P/L and Cost\n",
    "given kappa and holdings, calculate pnl and corresponding cost"
   ]
  },
  {
   "cell_type": "code",
   "execution_count": 205,
   "metadata": {
    "scrolled": true
   },
   "outputs": [],
   "source": [
    "'''\n",
    "calculate pnl with given holdings dataframe (time, stocks)\n",
    "calculate_cost=True will include cost of trades by day\n",
    "'''\n",
    "\n",
    "def calculate_pnl(holding_df, k=1, calculate_cost=False):\n",
    "    start = datetime.now()\n",
    "    pnl_df = pd.DataFrame(columns=['pnl','cost'])\n",
    "\n",
    "    # calculate trades for each day\n",
    "    if calculate_cost:\n",
    "        holding_change = abs((holding_df).fillna(0).diff())   \n",
    "\n",
    "    for dt in holding_df.index:\n",
    "        holding = holding_df.loc[dt,:].dropna()\n",
    "        df = data_dt_id.loc[dt, :]\n",
    "        y = df.loc[holding.index, y_col]\n",
    "        hk = holding / k\n",
    "        profit = (hk.values @ y.values)[0]\n",
    "        # store\n",
    "        pnl_df.loc[dt, 'pnl'] = profit\n",
    "\n",
    "        # cost\n",
    "        if calculate_cost:\n",
    "            delta = holding_change.loc[dt,:]\n",
    "            delta = delta[delta!=0]\n",
    "            advp = df.loc[delta.index, 'ADVP']\n",
    "            cost = 0.001 * delta**2 / (0.01 * advp)  # series of cost for each stock\n",
    "            # store\n",
    "            pnl_df.loc[dt, 'cost'] = cost.sum()\n",
    "\n",
    "    print(\">>> Running Time : \", datetime.now() - start)\n",
    "\n",
    "    return pnl_df"
   ]
  },
  {
   "cell_type": "code",
   "execution_count": null,
   "metadata": {},
   "outputs": [],
   "source": [
    "pnl_df = calculate_pnl(holding_df, kappa, calculate_cost=True)  # since holding_df is holdings with k=1, we want k=kappa\n",
    "cumpnl_df = pnl_df.cumsum()\n",
    "pnl_df.to_csv('pnl_df.csv')\n",
    "cumpnl_df.to_csv('cumpnl_df.csv')\n",
    "print('Saved to file ...Done')"
   ]
  },
  {
   "cell_type": "code",
   "execution_count": 24,
   "metadata": {},
   "outputs": [],
   "source": [
    "cumpnl_df = pd.read_csv('cumpnl_df.csv', index_col=0, parse_dates=True)\n",
    "pnl_df = pd.read_csv('pnl_df.csv', index_col=0, parse_dates=True)"
   ]
  },
  {
   "cell_type": "code",
   "execution_count": 25,
   "metadata": {},
   "outputs": [],
   "source": [
    "# removing outliers\n",
    "upper = pnl_df['pnl'].quantile(0.99)\n",
    "lower = pnl_df['pnl'].quantile(0.01)\n",
    "pnl_res = pnl_df.loc[upper > pnl_df['pnl'], :]\n",
    "pnl_res = pnl_res.loc[lower < pnl_df['pnl'], :]\n",
    "cumpnl_res = pnl_res.cumsum()"
   ]
  },
  {
   "cell_type": "code",
   "execution_count": 26,
   "metadata": {
    "scrolled": false
   },
   "outputs": [
    {
     "data": {
      "text/plain": [
       "Text(0.5,1,'Cost')"
      ]
     },
     "execution_count": 26,
     "metadata": {},
     "output_type": "execute_result"
    },
    {
     "data": {
      "image/png": "[encoded data removed]",
      "text/plain": [
       "<Figure size 1008x432 with 2 Axes>"
      ]
     },
     "metadata": {},
     "output_type": "display_data"
    }
   ],
   "source": [
    "fig, ax = plt.subplots(1,2, figsize=(14,6))\n",
    "plt.suptitle('P/L & Cost for OLS')\n",
    "ax[0].plot(cumpnl_res['pnl'])\n",
    "ax[0].set_title('P/L')\n",
    "ax[1].plot(cumpnl_res['cost'])\n",
    "ax[1].set_title('Cost')"
   ]
  },
  {
   "cell_type": "markdown",
   "metadata": {},
   "source": [
    "## Risk decomposition\n",
    "compute and plot percentage of variance in these portfolios due to alpha factors, non-alpha factors, idiosyncratic variance."
   ]
  },
  {
   "cell_type": "code",
   "execution_count": 600,
   "metadata": {},
   "outputs": [],
   "source": [
    "risk_df = pd.DataFrame(columns=np.append(factor_ret_ols.columns, 'idio_risk'))"
   ]
  },
  {
   "cell_type": "code",
   "execution_count": 601,
   "metadata": {},
   "outputs": [
    {
     "name": "stderr",
     "output_type": "stream",
     "text": [
      "C:\\ProgramData\\Anaconda3\\lib\\site-packages\\pandas\\core\\frame.py:6631: RuntimeWarning: Degrees of freedom <= 0 for slice\n",
      "  baseCov = np.cov(mat.T)\n",
      "C:\\ProgramData\\Anaconda3\\lib\\site-packages\\numpy\\lib\\function_base.py:3109: RuntimeWarning: divide by zero encountered in double_scalars\n",
      "  c *= 1. / np.float64(fact)\n",
      "C:\\ProgramData\\Anaconda3\\lib\\site-packages\\numpy\\lib\\function_base.py:3109: RuntimeWarning: invalid value encountered in multiply\n",
      "  c *= 1. / np.float64(fact)\n"
     ]
    }
   ],
   "source": [
    "for dt in holding_df.index:\n",
    "    # get h: (stocks,1)\n",
    "    holding = holding_df.loc[dt,:].dropna()\n",
    "    h = holding.values\n",
    "    \n",
    "    # get X: (stocks,factors)\n",
    "    df = data_dt_id.loc[dt, :]\n",
    "    df = df.loc[holding.index,]\n",
    "    nna_col = df.columns[(df != 0).any()]\n",
    "    df_X = df[nna_col]\n",
    "    df_X = pd.concat([df_X[factor_col], df_X.loc[:, cat_col[0]:]], axis=1)\n",
    "    X = df_X.values\n",
    "\n",
    "    # get F: (factors, factors)\n",
    "    factor = factor_ret_ols.loc[:dt, df_X.columns.values].cov().fillna(0)\n",
    "    F = factor.values\n",
    "\n",
    "    # get D: (stocks, stocks)\n",
    "    df.loc[df['RESVOL'] < 0.005, 'RESVOL'] = 0.005\n",
    "    D = np.diagflat(df['RESVOL'].values ** 2)\n",
    "    \n",
    "    # risk\n",
    "    sigma = X @ F @ X.T + D\n",
    "    total_risk = h.T @ sigma @ h\n",
    "    idio_risk = h.T @ D @ h\n",
    "    idio_risk = idio_risk / total_risk\n",
    "    \n",
    "    # factor risk: alpha / non-alpha\n",
    "    x = df_X.T @ h\n",
    "    factor_risk = x * ((F @ x) / total_risk)\n",
    "    \n",
    "    # store\n",
    "    risk_df.loc[dt, factor_risk.index] = factor_risk\n",
    "    risk_df.loc[dt, 'idio_risk'] = idio_risk\n",
    "    "
   ]
  },
  {
   "cell_type": "code",
   "execution_count": 612,
   "metadata": {
    "scrolled": true
   },
   "outputs": [
    {
     "name": "stdout",
     "output_type": "stream",
     "text": [
      "Saved to file ...Done\n"
     ]
    }
   ],
   "source": [
    "risk_df.to_csv('risk_df.csv')\n",
    "print('Saved to file ...Done')"
   ]
  },
  {
   "cell_type": "code",
   "execution_count": 27,
   "metadata": {},
   "outputs": [],
   "source": [
    "risk_df = pd.read_csv('risk_df.csv', index_col=0, parse_dates=True)"
   ]
  },
  {
   "cell_type": "code",
   "execution_count": 59,
   "metadata": {},
   "outputs": [],
   "source": [
    "# calculate percentage\n",
    "variance_df = pd.DataFrame(columns=['alpha', 'non-alpha', 'idiosyncratic'])\n",
    "variance_df['alpha'] = risk_df[alpha_col].sum(1)\n",
    "variance_df['idiosyncratic'] = risk_df['idio_risk']\n",
    "variance_df['non-alpha'] = 1 - variance_df['alpha'] - variance_df['idiosyncratic']"
   ]
  },
  {
   "cell_type": "code",
   "execution_count": 60,
   "metadata": {
    "scrolled": true
   },
   "outputs": [],
   "source": [
    "# getting rid of outliers\n",
    "variance_df = variance_df[variance_df['idiosyncratic'] > 0]\n",
    "variance_df = variance_df[variance_df['idiosyncratic'] < 1]\n",
    "variance_df = variance_df[variance_df['non-alpha'] > -0.3]\n",
    "variance_df = variance_df[variance_df['idiosyncratic'].diff() < 0.01]"
   ]
  },
  {
   "cell_type": "code",
   "execution_count": 61,
   "metadata": {},
   "outputs": [
    {
     "data": {
      "text/plain": [
       "Text(0.5,1,'Risk decomposition')"
      ]
     },
     "execution_count": 61,
     "metadata": {},
     "output_type": "execute_result"
    },
    {
     "data": {
      "image/png": "[encoded data removed]",
      "text/plain": [
       "<Figure size 864x504 with 1 Axes>"
      ]
     },
     "metadata": {},
     "output_type": "display_data"
    }
   ],
   "source": [
    "variance_df.plot(figsize=(12,7))\n",
    "plt.title('Risk decomposition')"
   ]
  },
  {
   "cell_type": "markdown",
   "metadata": {},
   "source": [
    "# Problem 3: Black-Litterman Optimization"
   ]
  },
  {
   "cell_type": "code",
   "execution_count": 674,
   "metadata": {},
   "outputs": [],
   "source": [
    "capital = 500000000\n",
    "q0 = 0.1\n",
    "tau = 0.01\n",
    "w = 0.01**2 "
   ]
  },
  {
   "cell_type": "code",
   "execution_count": 715,
   "metadata": {},
   "outputs": [],
   "source": [
    "holding_KL_df = pd.DataFrame(columns = data_dt_id.index.levels[1])\n",
    "holding_benchmark_df = pd.DataFrame(columns = data_dt_id.index.levels[1])"
   ]
  },
  {
   "cell_type": "code",
   "execution_count": null,
   "metadata": {},
   "outputs": [],
   "source": [
    "'''\n",
    "Compute black litterman portfolio holding, given:\n",
    "P, C, omega, tau, kappa, hb, sigma, q0\n",
    "'''\n",
    "\n",
    "def compute_black_litterman(P, C, omega, tau, kappa, hb, sigma, q0):\n",
    "    C_inv = np.linalg.inv(C)\n",
    "    H = P.T @ omega @ P + C_inv\n",
    "    H_inv = np.linalg.inv(H)\n",
    "    pi = kappa * (1+tau) * sigma @ hb\n",
    "    var = sigma + H_inv\n",
    "    mean = H_inv @ (P.T @ omega * q0 + C_inv @ pi)\n",
    "    holding_KL = 1 / kappa * np.linalg.inv(var) @ mean\n",
    "    return holding_KL"
   ]
  },
  {
   "cell_type": "code",
   "execution_count": 751,
   "metadata": {
    "scrolled": true
   },
   "outputs": [
    {
     "name": "stderr",
     "output_type": "stream",
     "text": [
      "C:\\ProgramData\\Anaconda3\\lib\\site-packages\\pandas\\core\\frame.py:6631: RuntimeWarning: Degrees of freedom <= 0 for slice\n",
      "  baseCov = np.cov(mat.T)\n",
      "C:\\ProgramData\\Anaconda3\\lib\\site-packages\\numpy\\lib\\function_base.py:3109: RuntimeWarning: divide by zero encountered in double_scalars\n",
      "  c *= 1. / np.float64(fact)\n",
      "C:\\ProgramData\\Anaconda3\\lib\\site-packages\\numpy\\lib\\function_base.py:3109: RuntimeWarning: invalid value encountered in multiply\n",
      "  c *= 1. / np.float64(fact)\n"
     ]
    }
   ],
   "source": [
    "for dt in data_dt_id.index.levels[0]:\n",
    "    \n",
    "    # get X: (stocks,factors)\n",
    "    df = data_dt_id.loc[dt, :]\n",
    "    df = df[df[y_col[0]]!=0]\n",
    "    nna_col = df.columns[(df != 0).any()]\n",
    "    df_X = df[nna_col]\n",
    "    df_X = pd.concat([df_X[factor_col], df_X.loc[:, cat_col[0]:]], axis=1)\n",
    "    X = df_X.values\n",
    "    \n",
    "    # get F: (factors, factors)\n",
    "    factor = factor_ret_ols.loc[:dt, df_X.columns.values].cov().fillna(0)\n",
    "    F = factor.values\n",
    "\n",
    "    # get D: (stocks, stocks)\n",
    "    D = np.diagflat(df['RESVOL'].values ** 2)\n",
    "    \n",
    "    # risk\n",
    "    sigma = X @ F @ X.T + D\n",
    "    C = tau * sigma\n",
    "    \n",
    "    # benchmark: by weight\n",
    "    hb = capital * df['USDCAP'] / df['USDCAP'].sum()\n",
    "    hb = hb[:,None]\n",
    "    \n",
    "    # Black Litterman\n",
    "    P = df_X[['tir','td']].sum(1).values[None,:]\n",
    "    omega = np.array(1./w).reshape(1,-1)\n",
    "    holding_KL = compute_black_litterman(P, C, omega, tau, kappa, hb, sigma, q0)\n",
    "    \n",
    "    # store: becomes object\n",
    "    holding_KL_df.loc[dt, df_X.index] = holding_KL.reshape(1,-1)\n",
    "    holding_benchmark_df.loc[dt, df_X.index] = hb.reshape(1,-1)"
   ]
  },
  {
   "cell_type": "code",
   "execution_count": 788,
   "metadata": {},
   "outputs": [
    {
     "name": "stdout",
     "output_type": "stream",
     "text": [
      "Saved to file ...Done\n"
     ]
    }
   ],
   "source": [
    "# object convert to float\n",
    "holding_KL_df = holding_KL_df.astype('float64')\n",
    "holding_benchmark_df = holding_benchmark_df.astype('float64')\n",
    "holding_KL_df.to_csv('holding_KL_df.csv')\n",
    "holding_benchmark_df.to_csv('holding_benchmark_df.csv')\n",
    "print('Saved to file ...Done')"
   ]
  },
  {
   "cell_type": "code",
   "execution_count": 811,
   "metadata": {},
   "outputs": [
    {
     "name": "stdout",
     "output_type": "stream",
     "text": [
      ">>> Running Time :  0:00:11.895165\n"
     ]
    }
   ],
   "source": [
    "KL_pnl = calculate_pnl(holding_KL_df, calculate_cost=False)"
   ]
  },
  {
   "cell_type": "code",
   "execution_count": 812,
   "metadata": {},
   "outputs": [
    {
     "name": "stdout",
     "output_type": "stream",
     "text": [
      ">>> Running Time :  0:00:11.683776\n"
     ]
    }
   ],
   "source": [
    "bench_pnl = calculate_pnl(holding_benchmark_df, calculate_cost=False)"
   ]
  },
  {
   "cell_type": "code",
   "execution_count": 814,
   "metadata": {},
   "outputs": [
    {
     "data": {
      "text/plain": [
       "<matplotlib.legend.Legend at 0x284a601ff60>"
      ]
     },
     "execution_count": 814,
     "metadata": {},
     "output_type": "execute_result"
    },
    {
     "data": {
      "image/png": "[encoded data removed]",
      "text/plain": [
       "<Figure size 864x504 with 1 Axes>"
      ]
     },
     "metadata": {},
     "output_type": "display_data"
    }
   ],
   "source": [
    "plt.figure(figsize=(12,7))\n",
    "KL_pnl.cumsum()['pnl'].plot(label='Black Litterman Portfolio')\n",
    "bench_pnl.cumsum()['pnl'].plot(label='Benchmark Portfolio')\n",
    "plt.title('Black Litterman vs. Benchmark')\n",
    "plt.legend()"
   ]
  },
  {
   "cell_type": "markdown",
   "metadata": {},
   "source": [
    "# Problem 4: Mixed Effects Models"
   ]
  },
  {
   "cell_type": "markdown",
   "metadata": {},
   "source": [
    "## Factor return for MLE\n",
    "because of time constraint, EM function I wrote is not used but MixedLM package function is used."
   ]
  },
  {
   "cell_type": "code",
   "execution_count": null,
   "metadata": {},
   "outputs": [],
   "source": [
    "'EM algorithm'\n",
    "def EM(T, holding_df):\n",
    "    \n",
    "    tol = 0.00001\n",
    "    maxIter = 10000\n",
    "    iteration = 0\n",
    "    # initialize\n",
    "    beta = np.zeros((data_dt_id.shape[1], 1))\n",
    "    sig_e = 0  # sig_e^2\n",
    "    F = np.identity(data_dt_id.shape[1])  # covariance of factor returns\n",
    "    \n",
    "    while(error > tol and iteration < maxIter):\n",
    "        iteration += 1\n",
    "        \n",
    "        sum_XX = 0\n",
    "        sum_Xb = 0\n",
    "        count = 0\n",
    "        \n",
    "        for dt in data_dt_id.index.levels[0][:T]:\n",
    "            count += 1\n",
    "            # get X\n",
    "            df = data_dt_id.loc[dt, :].fillna(0)\n",
    "            df = df[df[y_col[0]]!=0]\n",
    "            y = df[y_col]\n",
    "            X = df.values\n",
    "            \n",
    "            D = np.identity(X.shape[0]) * sig_e\n",
    "            sigma = X @ F @ X.T + D\n",
    "            beta_hat = F @ X.T @ np.linalg.inv(sigma) @ y\n",
    "            XX = X.T @ X\n",
    "            error = (y - X @ beta_hat)\n",
    "            Xb = X.T @ error\n",
    "            sum_XX += XX\n",
    "            sum_Xb += Xb\n",
    "        \n",
    "        # update beta\n",
    "        beta = np.linalg.inv(sum_XX) @ sum_Xb\n",
    "        I_inv = np.identity(len(error))\n",
    "        sig_e = error.T @ I_inv @ error + sig_e * (np.linalg.matrix_rank(X) + len(beta)*count - \n",
    "                                                   sig_e * np.trace(Cuu @ np.linalg.inv(F)))\n",
    "        sig_e = sig_e / X.shape[0]\n",
    "        \n",
    "        for i, dt in enumerate(holding_df.index):\n",
    "            b = holding_df.loc[dt, :].fillna(0).values\n",
    "            A_inv = np.identity(len(b))\n",
    "            \n",
    "            for j, dt2 in enumerate(holding_df.index):\n",
    "                if dt2 != dt:\n",
    "                    b2 = holding_df.loc[dt2, :].fillna(0).values\n",
    "                    F1 = b.T @ A_inv @ b2 + sig_e * np.trace(A_inv @ Cuu)\n",
    "                    F[i,j] = F1 / len(b)\n",
    "        \n",
    "    return beta  # for each T\n",
    "        "
   ]
  },
  {
   "cell_type": "code",
   "execution_count": 1030,
   "metadata": {
    "scrolled": true
   },
   "outputs": [],
   "source": [
    "def compute_mle_holding(kappa=1):\n",
    "    start = datetime.now()\n",
    "    \n",
    "    factor_ret_mle = pd.DataFrame(columns = factor_ret_ols.columns)\n",
    "    holding_mle_df = pd.DataFrame(columns = holding_df.columns)\n",
    "\n",
    "    for dt in data_dt_id.index.levels[0]:    \n",
    "        # get X\n",
    "        df = data_dt_id.loc[dt, :]\n",
    "        df = df[df[y_col[0]]!=0]\n",
    "        y = df[y_col]\n",
    "        nna_col = df.columns[(df != 0).any()]\n",
    "        df_X = df[nna_col]\n",
    "        df_X = pd.concat([df_X[factor_col], df_X.loc[:, cat_col[0]:]], axis=1)\n",
    "        X = df_X.values\n",
    "\n",
    "        # MLE\n",
    "        groups = np.arange(len(y))\n",
    "        model = MixedLM(y, X, groups)  # using package\n",
    "        lme_result = model.fit()\n",
    "        beta = lme_result.fe_params\n",
    "        F = lme_result.normalized_cov_params.iloc[:-1,:-1].values\n",
    "\n",
    "        # store into df\n",
    "        factor_ret_mle.loc[dt, df_X.columns.values] = beta.values\n",
    "\n",
    "        # get D\n",
    "        df.loc[df['RESVOL'] < 0.005, 'RESVOL'] = 0.005\n",
    "        D = np.diagflat(df['RESVOL'].values ** 2)\n",
    "        D_inv = np.diagflat(1. / df['RESVOL'].values ** 2)\n",
    "        D_inv_half = np.diagflat(1. / df['RESVOL'].values)\n",
    "\n",
    "        # get alpha: n*1\n",
    "        alpha_factor_ret = factor_ret_mle.loc[dt, alpha_col]\n",
    "        factor_mean = np.zeros((df_X.shape[1],1))\n",
    "        factor_mean[4:6] = alpha_factor_ret.values.reshape(-1,1)\n",
    "\n",
    "        h = optimal_holding(kappa, F, X, D_inv, D_inv_half, factor_mean)\n",
    "\n",
    "        # store into df\n",
    "        holding_mle_df.loc[dt, df_X.index.values] = h.reshape(1,-1)\n",
    "    \n",
    "    print(\">>> Running Time : \", datetime.now() - start)\n",
    "    return factor_ret_mle, holding_mle_df"
   ]
  },
  {
   "cell_type": "code",
   "execution_count": 1031,
   "metadata": {},
   "outputs": [
    {
     "name": "stdout",
     "output_type": "stream",
     "text": [
      ">>> Running Time :  6:12:42.760407\n"
     ]
    }
   ],
   "source": [
    "factor_ret_mle, holding_mle_df = compute_mle_holding()"
   ]
  },
  {
   "cell_type": "code",
   "execution_count": 1032,
   "metadata": {},
   "outputs": [
    {
     "name": "stdout",
     "output_type": "stream",
     "text": [
      "Saved to file ...Done\n"
     ]
    }
   ],
   "source": [
    "factor_ret_mle = factor_ret_mle.astype('float64')\n",
    "factor_ret_mle.to_csv('factor_ret_mle.csv')\n",
    "print('Saved to file ...Done')"
   ]
  },
  {
   "cell_type": "code",
   "execution_count": 1033,
   "metadata": {},
   "outputs": [
    {
     "name": "stdout",
     "output_type": "stream",
     "text": [
      "Saved to file ...Done\n"
     ]
    }
   ],
   "source": [
    "holding_mle_df = holding_mle_df.astype('float64')\n",
    "holding_mle_df.to_csv('holding_mle_df.csv')\n",
    "print('Saved to file ...Done')"
   ]
  },
  {
   "cell_type": "markdown",
   "metadata": {},
   "source": [
    "## Compare with OLS alpha factor returns"
   ]
  },
  {
   "cell_type": "code",
   "execution_count": 28,
   "metadata": {},
   "outputs": [],
   "source": [
    "factor_ret_mle = pd.read_csv('factor_ret_mle.csv', index_col=0, parse_dates=True)\n",
    "holding_mle_df = pd.read_csv('holding_mle_df.csv', index_col=0, parse_dates=True)\n"
   ]
  },
  {
   "cell_type": "code",
   "execution_count": 29,
   "metadata": {},
   "outputs": [
    {
     "data": {
      "image/png": "[encoded data removed]",
      "text/plain": [
       "<Figure size 720x720 with 2 Axes>"
      ]
     },
     "metadata": {},
     "output_type": "display_data"
    }
   ],
   "source": [
    "fig, ax = plt.subplots(2,1, figsize=(10,10))\n",
    "for i in range(2):\n",
    "    col = alpha_col[i]\n",
    "    ax[i].plot(factor_ret_ols_cumsum[col], label='OLS')\n",
    "    ax[i].plot(factor_ret_mle.cumsum()[col], label='WLS')\n",
    "    ax[i].set_title(col)\n",
    "    ax[i].legend()"
   ]
  },
  {
   "cell_type": "code",
   "execution_count": 33,
   "metadata": {
    "scrolled": true
   },
   "outputs": [
    {
     "name": "stdout",
     "output_type": "stream",
     "text": [
      "Sum of differences between MLE and OLS factor returns: -6.701991855227459e-06\n",
      "We also see from the plot that their differences are negligible.\n"
     ]
    }
   ],
   "source": [
    "print('Sum of differences between MLE and OLS factor returns:', (factor_ret_mle.mean() - factor_ret_ols_mean).sum())\n",
    "print('We also see from the plot that their differences are negligible.')"
   ]
  },
  {
   "cell_type": "code",
   "execution_count": 31,
   "metadata": {},
   "outputs": [
    {
     "name": "stdout",
     "output_type": "stream",
     "text": [
      "T test is used, p-value for factor tir is 0.9995575437607622, p-value for factor td is 0.9825874413413641\n",
      "Becaus of large p-value, we cannot reject that they are identical.\n"
     ]
    }
   ],
   "source": [
    "pvalue_tir = ttest_ind(factor_ret_ols_cumsum['tir'], factor_ret_mle.cumsum()['tir'])[1]\n",
    "pvalue_td = ttest_ind(factor_ret_ols_cumsum['td'], factor_ret_mle.cumsum()['td'])[1]\n",
    "print('T test is used, p-value for factor tir is {}, p-value for factor td is {}'.format(pvalue_tir, pvalue_td))\n",
    "print('Becaus of large p-value, we cannot reject that they are identical.')"
   ]
  },
  {
   "cell_type": "markdown",
   "metadata": {},
   "source": [
    "## Optimal holding portfolio for MLE"
   ]
  },
  {
   "cell_type": "code",
   "execution_count": 190,
   "metadata": {},
   "outputs": [
    {
     "name": "stdout",
     "output_type": "stream",
     "text": [
      "kappa when average GMV is 500 million USD: 3.3306845914710315e-06\n"
     ]
    }
   ],
   "source": [
    "mle_kappa = compute_kappa(holding_mle_df)"
   ]
  },
  {
   "cell_type": "code",
   "execution_count": null,
   "metadata": {},
   "outputs": [],
   "source": [
    "mle_pnl = calculate_pnl(holding_mle_df, mle_kappa)"
   ]
  },
  {
   "cell_type": "code",
   "execution_count": 1047,
   "metadata": {},
   "outputs": [
    {
     "name": "stdout",
     "output_type": "stream",
     "text": [
      "Saved to file ...Done\n"
     ]
    }
   ],
   "source": [
    "mle_pnl = mle_pnl.astype('float64')\n",
    "mle_pnl.to_csv('mle_pnl.csv')\n",
    "print('Saved to file ...Done')"
   ]
  },
  {
   "cell_type": "code",
   "execution_count": 34,
   "metadata": {},
   "outputs": [],
   "source": [
    "mle_pnl = pd.read_csv('mle_pnl.csv', index_col=0, parse_dates=True)"
   ]
  },
  {
   "cell_type": "code",
   "execution_count": 192,
   "metadata": {},
   "outputs": [
    {
     "data": {
      "text/plain": [
       "Text(0.5,1,'Portfolio by MLE')"
      ]
     },
     "execution_count": 192,
     "metadata": {},
     "output_type": "execute_result"
    },
    {
     "data": {
      "image/png": "[encoded data removed]",
      "text/plain": [
       "<Figure size 1008x432 with 2 Axes>"
      ]
     },
     "metadata": {},
     "output_type": "display_data"
    }
   ],
   "source": [
    "fig, ax = plt.subplots(1,2, figsize=(14,6))\n",
    "plt.suptitle('MLE vs. OLS P/L')\n",
    "ax[0].plot(cumpnl_res['pnl'])\n",
    "ax[0].set_title('Portfolio by OLS')\n",
    "ax[1].plot(mle_pnl.cumsum()['pnl'])\n",
    "ax[1].set_title('Portfolio by MLE')"
   ]
  },
  {
   "cell_type": "markdown",
   "metadata": {},
   "source": [
    "## Portfolio optimization with long-only constraint"
   ]
  },
  {
   "cell_type": "code",
   "execution_count": null,
   "metadata": {
    "scrolled": true
   },
   "outputs": [],
   "source": [
    "holding_long_df = compute_optimal_holding(factor_ret_mle, kappa=1, long_only=True)\n",
    "# eleminate non-positive holdings\n",
    "holding_long_df = holding_long_df.loc[holding_long_df.min(1)>=0, :]"
   ]
  },
  {
   "cell_type": "code",
   "execution_count": 157,
   "metadata": {},
   "outputs": [
    {
     "name": "stdout",
     "output_type": "stream",
     "text": [
      "Saved to file ...Done\n"
     ]
    }
   ],
   "source": [
    "holding_long_df = holding_long_df.astype('float64')\n",
    "holding_long_df.to_csv('holding_long_df.csv')\n",
    "print('Saved to file ...Done')"
   ]
  },
  {
   "cell_type": "code",
   "execution_count": 100,
   "metadata": {},
   "outputs": [],
   "source": [
    "holding_long_df = pd.read_csv('holding_long_df.csv', index_col=0, parse_dates=True)"
   ]
  },
  {
   "cell_type": "code",
   "execution_count": 174,
   "metadata": {},
   "outputs": [
    {
     "name": "stdout",
     "output_type": "stream",
     "text": [
      "kappa when average GMV is 500 million USD: 1.5535941493020518e-05\n"
     ]
    }
   ],
   "source": [
    "long_kappa = compute_kappa(holding_long_df)"
   ]
  },
  {
   "cell_type": "code",
   "execution_count": 206,
   "metadata": {},
   "outputs": [
    {
     "name": "stdout",
     "output_type": "stream",
     "text": [
      ">>> Running Time :  0:00:09.297196\n"
     ]
    }
   ],
   "source": [
    "long_pnl = calculate_pnl(holding_long_df, long_kappa)"
   ]
  },
  {
   "cell_type": "code",
   "execution_count": 207,
   "metadata": {},
   "outputs": [
    {
     "data": {
      "text/plain": [
       "Text(0.5,1,'Portfolio by MLE long only')"
      ]
     },
     "execution_count": 207,
     "metadata": {},
     "output_type": "execute_result"
    },
    {
     "data": {
      "image/png": "[encoded data removed]",
      "text/plain": [
       "<Figure size 1008x432 with 2 Axes>"
      ]
     },
     "metadata": {},
     "output_type": "display_data"
    }
   ],
   "source": [
    "fig, ax = plt.subplots(1,2, figsize=(14,6))\n",
    "plt.suptitle('MLE vs. MLE long only P/L')\n",
    "ax[0].plot(mle_pnl.cumsum()['pnl'])\n",
    "ax[0].set_title('Portfolio by MLE')\n",
    "ax[1].plot(long_pnl.sort_index().cumsum()['pnl'])\n",
    "ax[1].set_title('Portfolio by MLE long only')"
   ]
  },
  {
   "cell_type": "markdown",
   "metadata": {},
   "source": [
    "We can see that long only portfolio using simple Markowitz optimization faces big losses during stock market down time(2008 financial crisis and 2015 stock market sell-off), however, a long-short portfolio tend to profit from the downside during these periods."
   ]
  },
  {
   "cell_type": "markdown",
   "metadata": {},
   "source": [
    "# Problem 4: Reinforcement Learning"
   ]
  },
  {
   "cell_type": "code",
   "execution_count": 119,
   "metadata": {},
   "outputs": [],
   "source": [
    "half_life = 5\n",
    "lbda = np.log(2)/half_life\n",
    "sigma = 0.1\n",
    "eq_price = 50  # mean revert to this price\n",
    "K = 5  # each maximum trade size in 100 shares\n",
    "M = 10  # maximum position size in 100 shares\n",
    "tick_size = 0.1\n",
    "lot_size = 100."
   ]
  },
  {
   "cell_type": "code",
   "execution_count": 121,
   "metadata": {},
   "outputs": [],
   "source": [
    "action_space = np.arange(-K, K+1) * lot_size  # trade_size in action space\n",
    "holding_space = np.arange(-M, M+1) * lot_size  # in 100 shares\n",
    "price_space = np.arange(1,1000+1) * tick_size"
   ]
  },
  {
   "cell_type": "code",
   "execution_count": 122,
   "metadata": {},
   "outputs": [],
   "source": [
    "'simulate price'\n",
    "def simulate_price(eq_price, lbda, sigma, periods):\n",
    "    x = 0\n",
    "    price_list = [eq_price]\n",
    "    for i in range(periods-1):\n",
    "        x += - lbda * x + sigma * np.random.normal()\n",
    "        p = eq_price * np.exp(x)\n",
    "        p = max(0.1, min(100., p))\n",
    "        price_list.append(p)\n",
    "    price_list = np.array(price_list)\n",
    "    print('Simulate prices of {} days ...Done'.format(periods))\n",
    "    return price_list"
   ]
  },
  {
   "cell_type": "code",
   "execution_count": 123,
   "metadata": {},
   "outputs": [],
   "source": [
    "def calculate_cost(trade_size):\n",
    "    spread_cost = tick_size * abs(trade_size)  # for each trade\n",
    "    impact_cost = trade_size ** 2 * tick_size / lot_size  # permanent price impact\n",
    "    total_cost = spread_cost + impact_cost\n",
    "    return total_cost"
   ]
  },
  {
   "cell_type": "code",
   "execution_count": 124,
   "metadata": {},
   "outputs": [],
   "source": [
    "learning_rate = 10e-4\n",
    "gamma = 0.999  # discount rate\n",
    "alpha = 0.001  # step size\n",
    "eps = 0.1\n",
    "periods = 500000\n",
    "N = 252  # days per year\n",
    "Q = np.zeros((len(holding_space)*len(price_space), len(action_space)))"
   ]
  },
  {
   "cell_type": "code",
   "execution_count": 125,
   "metadata": {},
   "outputs": [
    {
     "name": "stdout",
     "output_type": "stream",
     "text": [
      "Simulate prices of 500000 days ...Done\n"
     ]
    }
   ],
   "source": [
    "price_list = simulate_price(eq_price, lbda, sigma, periods)"
   ]
  },
  {
   "cell_type": "code",
   "execution_count": 152,
   "metadata": {},
   "outputs": [
    {
     "name": "stdout",
     "output_type": "stream",
     "text": [
      "Q learning ...\n",
      ">>> Running Time :  0:01:45.794302\n"
     ]
    }
   ],
   "source": [
    "holding_list = [0]  # initial holding is 0\n",
    "pnl_list = [0]\n",
    "ret_list = []\n",
    "trade_size = 0\n",
    "start = datetime.now()\n",
    "print('Q learning ...')\n",
    "\n",
    "for i in range(1,periods-1):\n",
    "    last_trade_size = trade_size\n",
    "    next_price = price_list[i+1]\n",
    "    curr_price = price_list[i]\n",
    "    next_price_loc = int(next_price/tick_size-1)  # location of price\n",
    "    curr_price_loc = int(curr_price/tick_size-1)\n",
    "    \n",
    "    'get trade size that gives maximum value in the next state'\n",
    "    # possible action given latest holding\n",
    "    last_holding = holding_list[-1]\n",
    "    poss_action = list(set(action_space).intersection(set(holding_space-last_holding)))\n",
    "    poss_action.sort()\n",
    "    poss_action = np.array(poss_action)\n",
    "    poss_action_loc = (poss_action/lot_size + K).astype(int)  # location of possible actions in Q\n",
    "    \n",
    "    # get Q with possible action and holding\n",
    "    q = Q[next_price_loc*len(holding_space) : next_price_loc*(len(holding_space)+1), poss_action_loc]\n",
    "    maxq = q.max()  # one number: maximum among all (holding, action)\n",
    "    # location of every possible (holding, action) that produces max value\n",
    "    maxq_action_loc = np.where(q == maxq)[1]  # maximum action location for every pair\n",
    "    random_action_loc = np.random.choice(maxq_action_loc)  # random one pair's action value location\n",
    "    trade_size = poss_action[random_action_loc]  # corresponding trade size\n",
    "    \n",
    "    'eps probability of choosing a random action from possible actions'\n",
    "    if (np.random.uniform() < eps):\n",
    "        trade_size = np.random.choice(poss_action)\n",
    "    \n",
    "    'current holding'\n",
    "    holding = last_holding + trade_size\n",
    "    holding_list.append(holding)\n",
    "    \n",
    "    'cost and profit'\n",
    "    total_cost = calculate_cost(trade_size)\n",
    "    profit = -(holding * (next_price - curr_price) - total_cost)\n",
    "    pnl_list.append(profit)\n",
    "    ret = profit / abs(holding * curr_price)\n",
    "    ret_list.append(ret)\n",
    "    reward = profit - 0.5 * learning_rate * profit**2\n",
    "    \n",
    "    'update Q'\n",
    "    target = reward + gamma * maxq\n",
    "    q = Q[curr_price_loc*len(holding_space) + int(last_holding/lot_size+M), int(last_trade_size/lot_size + K)]\n",
    "    Q[curr_price_loc*len(holding_space) + int(last_holding/lot_size+M), \n",
    "      int(last_trade_size/lot_size + K)] = (1-alpha) * q + alpha * target\n",
    "\n",
    "print(\">>> Running Time : \", datetime.now() - start)"
   ]
  },
  {
   "cell_type": "code",
   "execution_count": 153,
   "metadata": {},
   "outputs": [
    {
     "name": "stdout",
     "output_type": "stream",
     "text": [
      "Sharpe ratio is  0.1613300722507982\n"
     ]
    }
   ],
   "source": [
    "cumpnl_list = pd.Series(pnl_list).cumsum()\n",
    "ret_list = np.array(ret_list)\n",
    "ret_list = ret_list[ret_list != np.inf]\n",
    "ret_list = ret_list[ret_list != -np.inf]\n",
    "print('Sharpe ratio is ', np.sqrt(N) * np.nanmean(ret_list)/np.nanstd(ret_list))"
   ]
  },
  {
   "cell_type": "code",
   "execution_count": 1284,
   "metadata": {},
   "outputs": [
    {
     "data": {
      "text/plain": [
       "Text(0.5,1,'Q-learning PNL')"
      ]
     },
     "execution_count": 1284,
     "metadata": {},
     "output_type": "execute_result"
    },
    {
     "data": {
      "image/png": "[encoded data removed]",
      "text/plain": [
       "<Figure size 720x432 with 1 Axes>"
      ]
     },
     "metadata": {},
     "output_type": "display_data"
    }
   ],
   "source": [
    "cumpnl_list.plot(figsize=(10,6))\n",
    "plt.title('Q-learning PNL')"
   ]
  }
 ],
 "metadata": {
  "kernelspec": {
   "display_name": "Python 3",
   "language": "python",
   "name": "python3"
  },
  "language_info": {
   "codemirror_mode": {
    "name": "ipython",
    "version": 3
   },
   "file_extension": ".py",
   "mimetype": "text/x-python",
   "name": "python",
   "nbconvert_exporter": "python",
   "pygments_lexer": "ipython3",
   "version": "3.6.5"
  }
 },
 "nbformat": 4,
 "nbformat_minor": 2
}
